{
 "cells": [
  {
   "cell_type": "code",
   "execution_count": 2,
   "metadata": {},
   "outputs": [
    {
     "name": "stderr",
     "output_type": "stream",
     "text": [
      "\u001b[32m2024-01-19 10:48:20 - \u001b[94mBunka\u001b[0m - INFO - \u001b[1mExtracting meaningful terms from documents...\u001b[0m\n",
      "100%|██████████| 200/200 [00:00<00:00, 240.21it/s]\n",
      "\u001b[32m2024-01-19 10:48:21 - \u001b[94mBunka\u001b[0m - INFO - \u001b[1mEmbedding documents... (can take varying amounts of time depending on their size)\u001b[0m\n",
      "\u001b[32m2024-01-19 10:48:21 - \u001b[94mBunka\u001b[0m - INFO - \u001b[1mReducing the dimensions of embeddings...\u001b[0m\n",
      "\u001b[32m2024-01-19 10:48:22 - \u001b[94mBunka\u001b[0m - INFO - \u001b[1mComputing the topics\u001b[0m\n"
     ]
    }
   ],
   "source": [
    "from bunkatopics import Bunka\n",
    "from langchain_community.embeddings import HuggingFaceEmbeddings\n",
    "from datasets import load_dataset\n",
    "import random\n",
    "\n",
    "model_name = \"all-MiniLM-L6-v2\"\n",
    "embedding_model = HuggingFaceEmbeddings(model_name=model_name) # We recommend starting with a small model\n",
    "\n",
    "\n",
    "#Scientific Litterature Data\n",
    "dataset = load_dataset(\"CShorten/ML-ArXiv-Papers\")[\"train\"][\"title\"]\n",
    "raw_docs = random.sample(dataset, 200)\n",
    "\n",
    "\n",
    "# Initialize Bunka with your chosen model and language preference\n",
    "bunka = Bunka(embedding_model=embedding_model, language='english') # You can choose any language you prefer\n",
    "\n",
    "# Fit Bunka to your text data\n",
    "bunka.fit(raw_docs)\n",
    "\n",
    "df_topics = bunka.get_topics(n_clusters=10, name_length=5, min_count_terms = 2) # Specify the number of terms to describe each topic\n"
   ]
  },
  {
   "cell_type": "code",
   "execution_count": 3,
   "metadata": {},
   "outputs": [
    {
     "data": {
      "application/vnd.jupyter.widget-view+json": {
       "model_id": "780c74140e084ea79dc9fe4cb43eebb5",
       "version_major": 2,
       "version_minor": 0
      },
      "text/plain": [
       "VBox(children=(Label(value='Click on the topics you want to remove 🧹✨🧼🧽'), Checkbox(value=True, description='S…"
      ]
     },
     "metadata": {},
     "output_type": "display_data"
    },
    {
     "data": {
      "application/vnd.jupyter.widget-view+json": {
       "model_id": "2d11562708e147dc93e7d4ec3cb5e7e7",
       "version_major": 2,
       "version_minor": 0
      },
      "text/plain": [
       "Button(description='Clean Data', style=ButtonStyle(button_color='#2596be'))"
      ]
     },
     "metadata": {},
     "output_type": "display_data"
    }
   ],
   "source": [
    "\n",
    "bunka.clean_data_by_topics()\n"
   ]
  },
  {
   "cell_type": "code",
   "execution_count": 4,
   "metadata": {},
   "outputs": [
    {
     "data": {
      "application/vnd.jupyter.widget-view+json": {
       "model_id": "e8a57d8a330b4e448ed85eec4d465c98",
       "version_major": 2,
       "version_minor": 0
      },
      "text/plain": [
       "VBox(children=(HTML(value='Manually input the new topic names 📝 📥'), HBox(children=(Text(value='Strategies | I…"
      ]
     },
     "metadata": {},
     "output_type": "display_data"
    },
    {
     "data": {
      "application/vnd.jupyter.widget-view+json": {
       "model_id": "b1de6435fa2e442b9ee8457dad68553f",
       "version_major": 2,
       "version_minor": 0
      },
      "text/plain": [
       "Button(description='Apply Changes', style=ButtonStyle(button_color='#2596be'))"
      ]
     },
     "metadata": {},
     "output_type": "display_data"
    },
    {
     "data": {
      "application/vnd.jupyter.widget-view+json": {
       "model_id": "fc300bd695d94475b9c289ce15513ab7",
       "version_major": 2,
       "version_minor": 0
      },
      "text/plain": [
       "Output()"
      ]
     },
     "metadata": {},
     "output_type": "display_data"
    }
   ],
   "source": [
    "bunka.manually_clean_topics()"
   ]
  }
 ],
 "metadata": {
  "kernelspec": {
   "display_name": "bunka_env",
   "language": "python",
   "name": "python3"
  },
  "language_info": {
   "codemirror_mode": {
    "name": "ipython",
    "version": 3
   },
   "file_extension": ".py",
   "mimetype": "text/x-python",
   "name": "python",
   "nbconvert_exporter": "python",
   "pygments_lexer": "ipython3",
   "version": "3.11.7"
  }
 },
 "nbformat": 4,
 "nbformat_minor": 2
}
