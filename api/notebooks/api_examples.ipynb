{
 "cells": [
  {
   "cell_type": "code",
   "execution_count": 52,
   "metadata": {},
   "outputs": [],
   "source": [
    "import requests\n",
    "import random\n",
    "import jsonschema\n",
    "from jsonschema import Draft7Validator\n",
    "import time\n",
    "import json\n",
    "from datasets import load_dataset\n",
    "from sseclient import SSEClient\n",
    "from bunkatopics import Bunka\n",
    "from bunkatopics.datamodel import Document, Topic, BourdieuQuery\n",
    "\n",
    "bunka = Bunka()\n",
    "# Setup base URL\n",
    "baseapi_url = \"https://beta.bunkasearch.com/api\"\n",
    "# Topics endpoint example\n",
    "topics_path = \"/topics/\"\n",
    "bourdieu_path = \"/bourdieu/\"\n",
    "sse_topics_path = \"/tasks/topics/\"\n",
    "sse_bourdieu_path = \"/tasks/bourdieu/\"\n",
    "headers_json = {\"Content-Type\": \"application/json\"}\n",
    "headers_sse = {\"Accept\": \"text/event-stream\"}"
   ]
  },
  {
   "cell_type": "code",
   "execution_count": 35,
   "metadata": {},
   "outputs": [
    {
     "name": "stderr",
     "output_type": "stream",
     "text": [
      "/tmp/ipykernel_17528/2568078125.py:15: DeprecationWarning: jsonschema.RefResolver is deprecated as of v4.18.0, in favor of the https://github.com/python-jsonschema/referencing library, which provides more compliant referencing behavior as well as more flexible APIs for customization. A future release will remove RefResolver. Please file a feature request (on referencing) if you are missing an API for the kind of customization you need.\n",
      "  resolver=jsonschema.RefResolver(base_uri=openapi_url, referrer=openapi_spec),\n",
      "/tmp/ipykernel_17528/2568078125.py:26: DeprecationWarning: jsonschema.RefResolver is deprecated as of v4.18.0, in favor of the https://github.com/python-jsonschema/referencing library, which provides more compliant referencing behavior as well as more flexible APIs for customization. A future release will remove RefResolver. Please file a feature request (on referencing) if you are missing an API for the kind of customization you need.\n",
      "  resolver=jsonschema.RefResolver(base_uri=openapi_url, referrer=openapi_spec),\n"
     ]
    }
   ],
   "source": [
    "# Step 1: Fetch the OpenAPI Specitaskfication\n",
    "openapi_url = f\"{baseapi_url}/openapi.json\"\n",
    "response = requests.get(openapi_url)\n",
    "openapi_spec = response.json()\n",
    "\n",
    "# Step 2: Extract the Schema for the \"/topics/\" endpoint\n",
    "topics_schema = openapi_spec[\"paths\"][\"/topics/\"][\"post\"][\"requestBody\"][\"content\"][\n",
    "    \"application/json\"\n",
    "][\"schema\"]\n",
    "\n",
    "\n",
    "# Create a Topics query body Validator with the entire document as the scope for resolving references\n",
    "validator = Draft7Validator(\n",
    "    topics_schema,\n",
    "    resolver=jsonschema.RefResolver(base_uri=openapi_url, referrer=openapi_spec),\n",
    ")\n",
    "\n",
    "bourdieu_schema = openapi_spec[\"paths\"][\"/bourdieu/\"][\"post\"][\"requestBody\"][\"content\"][\n",
    "    \"application/json\"\n",
    "][\"schema\"]\n",
    "\n",
    "\n",
    "# Create a Bourdieu query body Validator with the entire document as the scope for resolving references\n",
    "bourdieu_validator = Draft7Validator(\n",
    "    bourdieu_schema,\n",
    "    resolver=jsonschema.RefResolver(base_uri=openapi_url, referrer=openapi_spec),\n",
    ")"
   ]
  },
  {
   "cell_type": "code",
   "execution_count": 28,
   "metadata": {},
   "outputs": [],
   "source": [
    "# Scientific Litterature Data\n",
    "dataset = load_dataset(\"CShorten/ML-ArXiv-Papers\")[\"train\"][\"title\"]"
   ]
  },
  {
   "cell_type": "code",
   "execution_count": 29,
   "metadata": {},
   "outputs": [],
   "source": [
    "# Step 3: Your Data to Validate\n",
    "full_docs = random.sample(dataset, 500)\n",
    "data_to_validate = {\n",
    "    # Fill this with the data you want to validate\n",
    "    \"full_docs\": full_docs,\n",
    "    \"topic_param\": {\"n_clusters\": 5, \"clean_topics\": False},\n",
    "}\n",
    "# Step 4: Validate the Data\n",
    "for error in sorted(validator.iter_errors(data_to_validate), key=str):\n",
    "    print(error.message)"
   ]
  },
  {
   "cell_type": "code",
   "execution_count": 30,
   "metadata": {},
   "outputs": [
    {
     "name": "stdout",
     "output_type": "stream",
     "text": [
      "Response received, Topics processing task ID = 6317a0ad-8968-4263-8e79-616242f8b80f\n"
     ]
    }
   ],
   "source": [
    "# Step 5: Send POST Request to '/topics/'\n",
    "response_topics = requests.post(\n",
    "    f\"{baseapi_url}{topics_path}\", headers=headers_json, json=data_to_validate\n",
    ")\n",
    "task_response = response_topics.json()\n",
    "task_id = task_response[\"task_id\"]\n",
    "print(f\"Response received, Topics processing task ID = {task_id}\")"
   ]
  },
  {
   "cell_type": "code",
   "execution_count": 31,
   "metadata": {},
   "outputs": [
    {
     "name": "stdout",
     "output_type": "stream",
     "text": [
      "{'state': 'STARTED', 'progress': 0}\n",
      "{'state': 'STARTED', 'progress': 0}\n",
      "{'state': 'STARTED', 'progress': 0}\n",
      "{'state': 'STARTED', 'progress': 0}\n",
      "{'state': 'STARTED', 'progress': 0}\n",
      "{'state': 'STARTED', 'progress': 0}\n",
      "{'state': 'STARTED', 'progress': 0}\n",
      "{'state': 'PROCESSING', 'progress': 100.2}\n",
      "Desired state 'SUCCESS' found\n",
      "Server on port 3000 is already running. Killing it...\n",
      "NPM server started.\n"
     ]
    }
   ],
   "source": [
    "# Step 6: Wait for the task to succeed and start the visualisation front-end (web app)\n",
    "result_processing = None  # Variable to store the final result\n",
    "url = f\"{baseapi_url}{sse_topics_path}{task_id}/progress\"\n",
    "try:\n",
    "    with requests.get(url, stream=True, headers=headers_sse) as response:\n",
    "        client = SSEClient(response)\n",
    "        for event in client.events():\n",
    "            result_topics = json.loads(event.data)\n",
    "            # Check if the state is 'FAILURE'\n",
    "            if result_topics.get(\"state\") == \"FAILURE\":\n",
    "                print(\"Desired state 'FAILURE' found\")\n",
    "                print(result_topics)\n",
    "            # Check if the state is 'SUCCESS'\n",
    "            elif result_topics.get(\"state\") == \"SUCCESS\":\n",
    "                print(\"Desired state 'SUCCESS' found\")\n",
    "                result_processing = result_topics.get(\"result\", None)\n",
    "                bunka.docs = [Document(**row) for row in result_processing[\"docs\"]]\n",
    "                bunka.topics = [Topic(**row) for row in result_processing[\"topics\"]]\n",
    "                bunka.start_server()\n",
    "            else:\n",
    "                print(result_topics)\n",
    "\n",
    "except requests.RequestException as e:\n",
    "    print(\"Error during connection:\", e)"
   ]
  },
  {
   "cell_type": "code",
   "execution_count": 45,
   "metadata": {},
   "outputs": [],
   "source": [
    "# Step 7: Prepare and validate the bourdieu query\n",
    "data_to_validate = {\n",
    "    # Fill this with the data you want to validate\n",
    "    \"full_docs\": full_docs,\n",
    "    \"query\": {\n",
    "        \"x_left_words\": [\"left\"],\n",
    "        \"x_right_words\": [\"right\"],\n",
    "        \"y_top_words\": [\"top\"],\n",
    "        \"y_bottom_words\": [\"bottom\"],\n",
    "        \"radius_size\": 0.6,\n",
    "    },\n",
    "    \"topic_param\": {\"n_clusters\": 5, \"clean_topics\": False},\n",
    "}\n",
    "# Validate the Data\n",
    "for error in sorted(bourdieu_validator.iter_errors(data_to_validate), key=str):\n",
    "    print(error.message)"
   ]
  },
  {
   "cell_type": "code",
   "execution_count": 46,
   "metadata": {},
   "outputs": [
    {
     "name": "stdout",
     "output_type": "stream",
     "text": [
      "Response received, Bourdieu processing task ID = 16034037-7814-411b-8cf7-7b4621a9f586\n"
     ]
    }
   ],
   "source": [
    "# Step 8: Send POST Request to '/bourdieu/'\n",
    "response_topics = requests.post(\n",
    "    f\"{baseapi_url}{bourdieu_path}\", headers=headers_json, json=data_to_validate\n",
    ")\n",
    "task_response = response_topics.json()\n",
    "task_id = task_response[\"task_id\"]\n",
    "print(f\"Response received, Bourdieu processing task ID = {task_id}\")"
   ]
  },
  {
   "cell_type": "code",
   "execution_count": 56,
   "metadata": {},
   "outputs": [
    {
     "name": "stdout",
     "output_type": "stream",
     "text": [
      "Desired state 'SUCCESS' found\n",
      "NPM server started.\n"
     ]
    },
    {
     "name": "stdout",
     "output_type": "stream",
     "text": [
      "\n",
      "> bunka-web@0.1.0 start\n",
      "> react-scripts  --openssl-legacy-provider start\n",
      "\n"
     ]
    },
    {
     "name": "stderr",
     "output_type": "stream",
     "text": [
      "(node:129098) [DEP_WEBPACK_DEV_SERVER_ON_AFTER_SETUP_MIDDLEWARE] DeprecationWarning: 'onAfterSetupMiddleware' option is deprecated. Please use the 'setupMiddlewares' option.\n",
      "(Use `node --trace-deprecation ...` to show where the warning was created)\n",
      "(node:129098) [DEP_WEBPACK_DEV_SERVER_ON_BEFORE_SETUP_MIDDLEWARE] DeprecationWarning: 'onBeforeSetupMiddleware' option is deprecated. Please use the 'setupMiddlewares' option.\n"
     ]
    },
    {
     "name": "stdout",
     "output_type": "stream",
     "text": [
      "\u001b[36mStarting the development server...\u001b[39m\n",
      "\u001b[36m\u001b[39m\n",
      "\u001b[32mCompiled successfully!\u001b[39m\n",
      "\n",
      "You can now view \u001b[1mbunka-web\u001b[22m in the browser.\n",
      "\n",
      "  \u001b[1mLocal:\u001b[22m            http://localhost:\u001b[1m3000\u001b[22m\n",
      "  \u001b[1mOn Your Network:\u001b[22m  http://10.2.0.2:\u001b[1m3000\u001b[22m\n",
      "\n",
      "Note that the development build is not optimized.\n",
      "To create a production build, use \u001b[36mnpm run build\u001b[39m.\n",
      "\n",
      "webpack compiled \u001b[1m\u001b[32msuccessfully\u001b[39m\u001b[22m\n"
     ]
    }
   ],
   "source": [
    "# Step 8: Wait for the task to succeed and start the visualisation front-end (web app)\n",
    "result_processing = None  # Variable to store the final result\n",
    "url = f\"{baseapi_url}{sse_bourdieu_path}{task_id}/progress\"\n",
    "try:\n",
    "    with requests.get(url, stream=True, headers=headers_sse) as response:\n",
    "        client = SSEClient(response)\n",
    "        for event in client.events():\n",
    "            result_topics = json.loads(event.data)\n",
    "            # Check if the state is 'FAILURE'\n",
    "            if result_topics.get(\"state\") == \"FAILURE\":\n",
    "                print(\"Desired state 'FAILURE' found\")\n",
    "                print(result_topics)\n",
    "            # Check if the state is 'SUCCESS'\n",
    "            elif result_topics.get(\"state\") == \"SUCCESS\":\n",
    "                print(\"Desired state 'SUCCESS' found\")\n",
    "                result_processing = result_topics.get(\"result\", None)\n",
    "                bunka.bourdieu_docs = [\n",
    "                    Document(**row) for row in result_processing[\"docs\"]\n",
    "                ]\n",
    "                bunka.bourdieu_topics = [\n",
    "                    Topic(**row) for row in result_processing[\"topics\"]\n",
    "                ]\n",
    "                bunka.bourdieu_query = BourdieuQuery(**data_to_validate[\"query\"])\n",
    "\n",
    "                bunka.start_server_bourdieu()\n",
    "            else:\n",
    "                print(result_topics)\n",
    "\n",
    "except requests.RequestException as e:\n",
    "    print(\"Error during connection:\", e)"
   ]
  }
 ],
 "metadata": {
  "kernelspec": {
   "display_name": "Python 3 (ipykernel)",
   "language": "python",
   "name": "python3"
  },
  "language_info": {
   "codemirror_mode": {
    "name": "ipython",
    "version": 3
   },
   "file_extension": ".py",
   "mimetype": "text/x-python",
   "name": "python",
   "nbconvert_exporter": "python",
   "pygments_lexer": "ipython3",
   "version": "3.10.13"
  }
 },
 "nbformat": 4,
 "nbformat_minor": 2
}
